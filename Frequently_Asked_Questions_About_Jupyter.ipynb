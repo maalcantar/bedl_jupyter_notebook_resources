{
 "cells": [
  {
   "cell_type": "markdown",
   "metadata": {},
   "source": [
    "# Frequenty Asked Questions About Jupyter!\n",
    "\n",
    "We answer a whole range of questions about Jupyter notebooks, including some advanced tips and tricks. Follow along if you want!"
   ]
  },
  {
   "cell_type": "markdown",
   "metadata": {},
   "source": [
    "# 1. What is markdown?"
   ]
  },
  {
   "cell_type": "markdown",
   "metadata": {},
   "source": [
    "You might notice that these Jupyter notebooks have cells with text, like this one."
   ]
  },
  {
   "cell_type": "code",
   "execution_count": 1,
   "metadata": {},
   "outputs": [
    {
     "name": "stdout",
     "output_type": "stream",
     "text": [
      "and cells with code, like this one!\n"
     ]
    }
   ],
   "source": [
    "print(\"and cells with code, like this one!\")"
   ]
  },
  {
   "cell_type": "markdown",
   "metadata": {},
   "source": [
    "The code cells will run using whatever kernel is specified in the upper right hand corner of your Jupyter notebook (more on this later). The text cells use a formatting syntax called Markdown. Instead of having to write lines of HTML to format your text, there are built-in shortcuts in Markdown. \n",
    "\n",
    "For example, \n",
    "# putting one # makes your text bold and bigg\n",
    "## you can go smaller with ## in front of your text\n",
    "### and smaller with ###\n",
    "#### and smaller....\n",
    "##### now with italics!\n",
    "###### even smaller!\n",
    "####### but that's where it ends\n",
    "\n",
    "You can add in *italics* with an asterisk on each side (\\*italics\\*); you can make in-line text **bold** with two asterisks on each side (\\*\\*bold\\*\\*); and you can combine ***bolded italics*** with three asterisks on each side (\\*\\*\\*bolded italics\\*\\*\\*). We have showcased these style formatting options with the escape key, \"\\\" which allows you to use asterisks, etc. without automatically formatting.\n",
    "\n",
    "\n",
    "If you want to write some code in a text cell with an `inline code snippet` using the \\`your code here\\` format. Line breaks like this one:\n",
    "\n",
    "---\n",
    "can be implemented with the \\-\\-\\- formatting anywhere you want a break. Lastly, lists are easy to write by using asterisks (\\*) as bullet points, like this list of cool classes in BE:\n",
    "* 20.420\n",
    "* 20.440\n",
    "* 20.490\n",
    "    * Which also goes by 6.874\n",
    "        * or HST.506\n",
    "* 20.586\n",
    "\n",
    "You can include links [like the BEDL website](https://datalab.mit.edu) by using \\[your link name\\]\\(your link address\\) formatting. You can also include images like this one below with the same formatting. Check this out! ![image of MIT BE philosophy showing the scientific foundation of Biology integrating with engineering methods (analysis, design, and synthesis) to make impacts over a variety of applications like manufacturing, agriculture, medicine, and materials](http://be.mit.edu/sites/default/files/images/be-tree-graphic.png) And don't forget to use descriptive alternate \"alt\" text captions with \\[ \\] brackets before your image link to make your text accessible to those with screen readers."
   ]
  },
  {
   "cell_type": "markdown",
   "metadata": {},
   "source": [
    "# 2. Does the order of my code matter?"
   ]
  },
  {
   "cell_type": "markdown",
   "metadata": {},
   "source": [
    "Yes! Some program languages or IDEs (integrated development environments such as PyCharm or Eclipse) have their code compiled simultaneously, so the order of your code does not matter. In Jupyter notebooks, however, your code is compiled when you run each code cell, either by pressing the \"Run\" button or using the Shift+Return shortcut. **Your code order matters**, as shown with the example below!"
   ]
  },
  {
   "cell_type": "code",
   "execution_count": 2,
   "metadata": {},
   "outputs": [
    {
     "name": "stdout",
     "output_type": "stream",
     "text": [
      "We can try defining a variable and then printing it\n"
     ]
    },
    {
     "ename": "NameError",
     "evalue": "name 'y' is not defined",
     "output_type": "error",
     "traceback": [
      "\u001b[0;31m---------------------------------------------------------------------------\u001b[0m",
      "\u001b[0;31mNameError\u001b[0m                                 Traceback (most recent call last)",
      "\u001b[0;32m<ipython-input-2-3b82864b2cb2>\u001b[0m in \u001b[0;36m<module>\u001b[0;34m\u001b[0m\n\u001b[1;32m      2\u001b[0m \u001b[0mprint\u001b[0m\u001b[0;34m(\u001b[0m\u001b[0mx\u001b[0m\u001b[0;34m)\u001b[0m\u001b[0;34m\u001b[0m\u001b[0;34m\u001b[0m\u001b[0m\n\u001b[1;32m      3\u001b[0m \u001b[0;34m\u001b[0m\u001b[0m\n\u001b[0;32m----> 4\u001b[0;31m \u001b[0mprint\u001b[0m\u001b[0;34m(\u001b[0m\u001b[0my\u001b[0m\u001b[0;34m)\u001b[0m\u001b[0;34m\u001b[0m\u001b[0;34m\u001b[0m\u001b[0m\n\u001b[0m\u001b[1;32m      5\u001b[0m \u001b[0my\u001b[0m \u001b[0;34m=\u001b[0m \u001b[0;34m'Or printing the variable before defining it'\u001b[0m\u001b[0;34m\u001b[0m\u001b[0;34m\u001b[0m\u001b[0m\n",
      "\u001b[0;31mNameError\u001b[0m: name 'y' is not defined"
     ]
    }
   ],
   "source": [
    "x = 'We can try defining a variable and then printing it'\n",
    "print(x)\n",
    "\n",
    "print(y)\n",
    "y = 'Or printing the variable before defining it'\n"
   ]
  },
  {
   "cell_type": "markdown",
   "metadata": {},
   "source": [
    "You'll see the NameError that the `y` variable is undefined. This is expected! The code order matters within cells as well as across cells, and you can try out changing the order of your code cells and observing errors as above. Thankfully, Jupyter notebooks keep track of the order in which your cells have been compiled and run with a \\[number\\] to the left of the cell."
   ]
  },
  {
   "cell_type": "markdown",
   "metadata": {},
   "source": [
    "# 3. What happens if you delete a cell?"
   ]
  },
  {
   "cell_type": "markdown",
   "metadata": {},
   "source": [
    "If you have already run a cell and then delete it, the code that was run is still part of your current environment. For example, if I write a cell that says `x = 'try this'`, delete that cell, and then `print(x)`, that will work! \n",
    "\n",
    "One common question is : if you delete a cell, can you get that code back? If you go to the \"Edit\" button, there should be an option for \"Undo Delete Cells\". If you deleted the cell a long time agao, your best option is to use version control to revert to an older checkpoint. If you have been regularly saving your notebook, you should be able to go to \"File\" and then there is an option for \"Revert to Checkpoint\"."
   ]
  },
  {
   "cell_type": "markdown",
   "metadata": {},
   "source": [
    "# 4. What happens when you reconnect/restart/interrupt the kernel?"
   ]
  },
  {
   "cell_type": "markdown",
   "metadata": {},
   "source": [
    "You might have questions about the menu option \"Kernel\". The kernel is the server on which your Jupyter notbeooks run, even if you are running them locally (the server is then part of your own computer and not a cluster). \n",
    "\n",
    "Interrupting the kernel with the \"Interrupt\" option will stop the kernel's current task without shutting the kernel down, while \"Shutdown\" will shut the kernel down fully. You will then need to manually restart the kernel. The \"Restart\" option will stop the kernel and restart it again, so you will need to rerun any code cells to regain your \"variables\", or items that have been saved in your current workspace. \"Restart & Clear Output\" and \"Restart & Run All\" are variations from the \"Restart\" command that clear all code cells' outputs and run all the cells in a notebook, respectively. The \"Reconnect\" command may be handy if you need to reestablish a connection to a kernel due to some connection issues."
   ]
  },
  {
   "cell_type": "markdown",
   "metadata": {},
   "source": [
    "# 5. How do you export a notebook?\n"
   ]
  },
  {
   "cell_type": "markdown",
   "metadata": {},
   "source": [
    "Fortunately, there are lots of ways to export a notebook to share it with others. The simplest option is to download your notebook as an .ipynb file. This can be directly shared with others or added to a GitHub repository, for example. \n",
    "\n",
    "You can also save pdfs or .html files that are \"locked in\" at the moment you save them. For .pdf or .tex outputs, you must have LaTeX installed in your environment. You might be asked to submit .pdf or .tex files as problem set solutions in some of your BE classes! \n",
    "\n",
    "Finally, you can save your notebook as python code (.py) or as a Markdown file (.md). The python file will have all Markdown cells transformed into comments, while the markdown file might have some slight inconsistencies with the python code cells. We recommend checking your outputs to make sure you have not missed anything important from a notebook in your output."
   ]
  },
  {
   "cell_type": "markdown",
   "metadata": {},
   "source": [
    "# 6. What are \"hotkeys\" and why are people excited about them?"
   ]
  },
  {
   "cell_type": "markdown",
   "metadata": {},
   "source": [
    "A hotkey, AKA a shortcut key, is a combination of keys that can help run simple functions easier. For example, the shortcut \"Shift\" + \"Return\" will automatically run a code cell without having to press \"Run\".\n",
    "\n",
    "Here is a list of additional shortcuts:\n",
    " * Ctrl + Enter run selected cells\n",
    " * Alt + Enter run the current cell, insert below\n",
    "\n",
    "There are also a variety of shortcuts available in command mode. To access command mode, first press \"Esc\" and then follow any of the following shortcuts:\n",
    " * H to show all shortcuts\n",
    " * Up select cell above\n",
    " * Shift + Up extend selected cells above\n",
    " * A insert cell above\n",
    " * B insert cell below\n",
    " * Y change the cell type to Code\n",
    " * M change the cell type to Markdown\n",
    "\n",
    "To find a comprehensive list of shortcuts, click on \"Help\" followed by \"Keyboard Shortcuts\". You can also make your own (under Help/Edit Keyboard Shortcuts)!"
   ]
  },
  {
   "cell_type": "markdown",
   "metadata": {},
   "source": [
    "# 7. Can I run the command line from a Jupyter notebook?"
   ]
  },
  {
   "cell_type": "markdown",
   "metadata": {},
   "source": [
    "Yes! Most Jupyter notebooks have built-in functionality to execute commands directly on the command line. You simply need to preface the command with an exclamation mark. For example, we will print the working directory with the `pwd` command below."
   ]
  },
  {
   "cell_type": "code",
   "execution_count": 1,
   "metadata": {},
   "outputs": [
    {
     "name": "stdout",
     "output_type": "stream",
     "text": [
      "/Users/jackie16201/Desktop/Spring_2020/Misc\r\n"
     ]
    }
   ],
   "source": [
    "!pwd"
   ]
  },
  {
   "cell_type": "markdown",
   "metadata": {},
   "source": [
    "# 8. How do I plot? Can I include symbols in my plots?"
   ]
  },
  {
   "cell_type": "markdown",
   "metadata": {},
   "source": [
    "### Help!! I don't know the answer!"
   ]
  },
  {
   "cell_type": "markdown",
   "metadata": {},
   "source": [
    "# 9. What's a widget? \n",
    "\n"
   ]
  },
  {
   "cell_type": "markdown",
   "metadata": {},
   "source": [
    "A widget is an interactive python object. "
   ]
  },
  {
   "cell_type": "code",
   "execution_count": 2,
   "metadata": {},
   "outputs": [
    {
     "ename": "ModuleNotFoundError",
     "evalue": "No module named 'ipywidgets'",
     "output_type": "error",
     "traceback": [
      "\u001b[0;31m---------------------------------------------------------------------------\u001b[0m",
      "\u001b[0;31mModuleNotFoundError\u001b[0m                       Traceback (most recent call last)",
      "\u001b[0;32m<ipython-input-2-4db0a851e39a>\u001b[0m in \u001b[0;36m<module>\u001b[0;34m\u001b[0m\n\u001b[1;32m      1\u001b[0m \u001b[0;31m# You may need to pip install or conda install ipywidgets first\u001b[0m\u001b[0;34m\u001b[0m\u001b[0;34m\u001b[0m\u001b[0;34m\u001b[0m\u001b[0m\n\u001b[0;32m----> 2\u001b[0;31m \u001b[0;32mimport\u001b[0m \u001b[0mipywidgets\u001b[0m \u001b[0;32mas\u001b[0m \u001b[0mwidgets\u001b[0m\u001b[0;34m\u001b[0m\u001b[0;34m\u001b[0m\u001b[0m\n\u001b[0m\u001b[1;32m      3\u001b[0m \u001b[0mwidgets\u001b[0m\u001b[0;34m.\u001b[0m\u001b[0mIntSlider\u001b[0m\u001b[0;34m(\u001b[0m\u001b[0;34m)\u001b[0m\u001b[0;34m\u001b[0m\u001b[0;34m\u001b[0m\u001b[0m\n",
      "\u001b[0;31mModuleNotFoundError\u001b[0m: No module named 'ipywidgets'"
     ]
    }
   ],
   "source": [
    "# You may need to pip install or conda install ipywidgets first\n",
    "import ipywidgets as widgets\n",
    "widgets.IntSlider()"
   ]
  },
  {
   "cell_type": "code",
   "execution_count": null,
   "metadata": {},
   "outputs": [],
   "source": []
  },
  {
   "cell_type": "code",
   "execution_count": null,
   "metadata": {},
   "outputs": [],
   "source": []
  }
 ],
 "metadata": {
  "kernelspec": {
   "display_name": "Python 3",
   "language": "python",
   "name": "python3"
  },
  "language_info": {
   "codemirror_mode": {
    "name": "ipython",
    "version": 3
   },
   "file_extension": ".py",
   "mimetype": "text/x-python",
   "name": "python",
   "nbconvert_exporter": "python",
   "pygments_lexer": "ipython3",
   "version": "3.8.3"
  }
 },
 "nbformat": 4,
 "nbformat_minor": 2
}
